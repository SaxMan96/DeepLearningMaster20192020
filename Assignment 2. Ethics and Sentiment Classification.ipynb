{
  "nbformat": 4,
  "nbformat_minor": 0,
  "metadata": {
    "anaconda-cloud": {},
    "kernelspec": {
      "name": "python3",
      "display_name": "Python 3"
    },
    "language_info": {
      "codemirror_mode": {
        "name": "ipython",
        "version": 3
      },
      "file_extension": ".py",
      "mimetype": "text/x-python",
      "name": "python",
      "nbconvert_exporter": "python",
      "pygments_lexer": "ipython3",
      "version": "3.6.7"
    },
    "toc": {
      "base_numbering": 1,
      "nav_menu": {},
      "number_sections": true,
      "sideBar": true,
      "skip_h1_title": false,
      "title_cell": "Table of Contents",
      "title_sidebar": "Contents",
      "toc_cell": false,
      "toc_position": {},
      "toc_section_display": true,
      "toc_window_display": false
    },
    "colab": {
      "name": "Assignment 2. Ethics and Sentiment Classification.ipynb",
      "provenance": [],
      "toc_visible": true
    },
    "accelerator": "GPU"
  },
  "cells": [
    {
      "cell_type": "markdown",
      "metadata": {
        "id": "yTDqVBbh36V_",
        "colab_type": "text"
      },
      "source": [
        "# Assignment 2\n",
        "## Sentiment Classification\n",
        "\n",
        "This assignment approaches the sentiment classification problem by using deep learning techniques and also exposes some ethical problem related to these methods.\n",
        "\n",
        "This is what we’re going to do:\n",
        "\n",
        "+ Acquire some pre-computed word embeddings to represent the meanings of words\n",
        "+ Acquire training and test data, with gold-standard examples of positive and negative words\n",
        "+ Train a simple classifier to recognize other positive and negative words based on their word embeddings\n",
        "+ Compute sentiment scores for sentences of text using this classifier\n",
        "+ Analyze the results to look for unwanted bias. "
      ]
    },
    {
      "cell_type": "markdown",
      "metadata": {
        "id": "litP4Bg836WB",
        "colab_type": "text"
      },
      "source": [
        "## Word embeddings\n",
        "\n",
        "There are several datasets of pre-trained English word embeddings such as `word2vec`, pretrained on Google News data, and `GloVe`, pretrained on the Common Crawl of web pages. We will use `GloVe`.\n",
        "\n",
        "GloVe comes in three sizes: 6B, 42B, and 840B. The 42B version is pretty good and is also neatly trimmed to a vocabulary of 1 million words. We will just use the 42B version.\n",
        "\n",
        "> **GloVe.42B** data: 42B tokens, 1.9M vocab, uncased, 300d vectors, 1.75 GB download"
      ]
    },
    {
      "cell_type": "code",
      "metadata": {
        "ExecuteTime": {
          "end_time": "2019-03-29T09:08:49.211876Z",
          "start_time": "2019-03-29T09:01:34.100348Z"
        },
        "id": "SE7Br8Ui36WC",
        "colab_type": "code",
        "colab": {
          "base_uri": "https://localhost:8080/",
          "height": 353
        },
        "outputId": "ec52738b-6a65-4917-bd13-2b5ef1e217da"
      },
      "source": [
        "!wget http://nlp.stanford.edu/data/glove.42B.300d.zip"
      ],
      "execution_count": 2,
      "outputs": [
        {
          "output_type": "stream",
          "text": [
            "--2019-11-27 22:18:58--  http://nlp.stanford.edu/data/glove.42B.300d.zip\n",
            "Resolving nlp.stanford.edu (nlp.stanford.edu)... 171.64.67.140\n",
            "Connecting to nlp.stanford.edu (nlp.stanford.edu)|171.64.67.140|:80... connected.\n",
            "HTTP request sent, awaiting response... 302 Found\n",
            "Location: https://nlp.stanford.edu/data/glove.42B.300d.zip [following]\n",
            "--2019-11-27 22:19:03--  https://nlp.stanford.edu/data/glove.42B.300d.zip\n",
            "Connecting to nlp.stanford.edu (nlp.stanford.edu)|171.64.67.140|:443... connected.\n",
            "HTTP request sent, awaiting response... 301 Moved Permanently\n",
            "Location: http://downloads.cs.stanford.edu/nlp/data/glove.42B.300d.zip [following]\n",
            "--2019-11-27 22:19:03--  http://downloads.cs.stanford.edu/nlp/data/glove.42B.300d.zip\n",
            "Resolving downloads.cs.stanford.edu (downloads.cs.stanford.edu)... 171.64.64.22\n",
            "Connecting to downloads.cs.stanford.edu (downloads.cs.stanford.edu)|171.64.64.22|:80... connected.\n",
            "HTTP request sent, awaiting response... 200 OK\n",
            "Length: 1877800501 (1.7G) [application/zip]\n",
            "Saving to: ‘glove.42B.300d.zip’\n",
            "\n",
            "glove.42B.300d.zip  100%[===================>]   1.75G  2.10MB/s    in 14m 31s \n",
            "\n",
            "2019-11-27 22:33:35 (2.05 MB/s) - ‘glove.42B.300d.zip’ saved [1877800501/1877800501]\n",
            "\n"
          ],
          "name": "stdout"
        }
      ]
    },
    {
      "cell_type": "code",
      "metadata": {
        "ExecuteTime": {
          "end_time": "2019-03-29T09:10:02.327170Z",
          "start_time": "2019-03-29T09:09:24.646719Z"
        },
        "id": "gIly4FM436WF",
        "colab_type": "code",
        "colab": {
          "base_uri": "https://localhost:8080/",
          "height": 50
        },
        "outputId": "a3f8df53-8a9d-494b-e98b-ed2a564e8732"
      },
      "source": [
        "!unzip glove.42B.300d.zip"
      ],
      "execution_count": 3,
      "outputs": [
        {
          "output_type": "stream",
          "text": [
            "Archive:  glove.42B.300d.zip\n",
            "  inflating: glove.42B.300d.txt      \n"
          ],
          "name": "stdout"
        }
      ]
    },
    {
      "cell_type": "code",
      "metadata": {
        "ExecuteTime": {
          "end_time": "2019-03-29T15:04:47.628009Z",
          "start_time": "2019-03-29T15:01:58.108263Z"
        },
        "id": "xGy_qF5t36WH",
        "colab_type": "code",
        "colab": {
          "base_uri": "https://localhost:8080/",
          "height": 50
        },
        "outputId": "b3343b12-c072-43ee-ad44-a75076b85e88"
      },
      "source": [
        "import numpy as np\n",
        "import pandas as pd\n",
        "from tqdm import tqdm\n",
        "\n",
        "def load_embeddings(filename):\n",
        "    labels = []\n",
        "    rows = []\n",
        "    with open(filename, encoding='utf-8') as infile:\n",
        "        for i, line in tqdm(enumerate(infile)):\n",
        "            items = line.rstrip().split(' ')\n",
        "            if len(items) == 2:\n",
        "                # This is a header row giving the shape of the matrix\n",
        "                continue\n",
        "            labels.append(items[0])\n",
        "            values = np.array([float(x) for x in items[1:]], 'f')\n",
        "            rows.append(values)\n",
        "    \n",
        "    arr = np.vstack(rows)\n",
        "    return pd.DataFrame(arr, index=labels, dtype='f')\n",
        "\n",
        "embeddings = load_embeddings('glove.42B.300d.txt')\n",
        "embeddings.shape"
      ],
      "execution_count": 7,
      "outputs": [
        {
          "output_type": "stream",
          "text": [
            "1917494it [02:22, 13462.83it/s]\n"
          ],
          "name": "stderr"
        },
        {
          "output_type": "execute_result",
          "data": {
            "text/plain": [
              "(1917494, 300)"
            ]
          },
          "metadata": {
            "tags": []
          },
          "execution_count": 7
        }
      ]
    },
    {
      "cell_type": "markdown",
      "metadata": {
        "id": "mJ2HHZpc36WJ",
        "colab_type": "text"
      },
      "source": [
        "## Positive and Negative Words\n",
        "\n",
        "We need some input about which words are positive and which words are negative. There are many sentiment lexicons you could use, but we’re going to go with a very straightforward lexicon from https://www.cs.uic.edu/~liub/FBS/sentiment-analysis.html  \n",
        "\n",
        "There is a copy of these files in the GitHub repository of the course."
      ]
    },
    {
      "cell_type": "code",
      "metadata": {
        "ExecuteTime": {
          "end_time": "2019-03-29T15:04:56.665741Z",
          "start_time": "2019-03-29T15:04:56.619197Z"
        },
        "id": "rWyxpDkX36WJ",
        "colab_type": "code",
        "colab": {}
      },
      "source": [
        "def load_lexicon(filename):\n",
        "    lexicon = []\n",
        "    with open(filename, encoding='latin-1') as infile:\n",
        "        for line in infile:\n",
        "            line = line.rstrip()\n",
        "            if line and not line.startswith(';'):\n",
        "                lexicon.append(line)\n",
        "    return lexicon\n",
        "\n",
        "pos_words = load_lexicon('positive-words.txt')\n",
        "neg_words = load_lexicon('negative-words.txt')"
      ],
      "execution_count": 0,
      "outputs": []
    },
    {
      "cell_type": "markdown",
      "metadata": {
        "id": "r71VdqOc36WL",
        "colab_type": "text"
      },
      "source": [
        "Some of these words are not in the GloVe vocabulary. Those words end up with rows full of NaN to indicate their missing embeddings, so we will use Pandas to clean the dataset."
      ]
    },
    {
      "cell_type": "code",
      "metadata": {
        "ExecuteTime": {
          "end_time": "2019-03-29T15:04:59.940580Z",
          "start_time": "2019-03-29T15:04:58.168200Z"
        },
        "id": "zm6frm7X36WM",
        "colab_type": "code",
        "colab": {
          "base_uri": "https://localhost:8080/",
          "height": 252
        },
        "outputId": "81510a68-12d9-413a-e6c2-a872b36f2f51"
      },
      "source": [
        "pos_vectors = embeddings.loc[pos_words].dropna()\n",
        "neg_vectors = embeddings.loc[neg_words].dropna()"
      ],
      "execution_count": 9,
      "outputs": [
        {
          "output_type": "stream",
          "text": [
            "/usr/local/lib/python3.6/dist-packages/ipykernel_launcher.py:1: FutureWarning: \n",
            "Passing list-likes to .loc or [] with any missing label will raise\n",
            "KeyError in the future, you can use .reindex() as an alternative.\n",
            "\n",
            "See the documentation here:\n",
            "https://pandas.pydata.org/pandas-docs/stable/user_guide/indexing.html#deprecate-loc-reindex-listlike\n",
            "  \"\"\"Entry point for launching an IPython kernel.\n",
            "/usr/local/lib/python3.6/dist-packages/ipykernel_launcher.py:2: FutureWarning: \n",
            "Passing list-likes to .loc or [] with any missing label will raise\n",
            "KeyError in the future, you can use .reindex() as an alternative.\n",
            "\n",
            "See the documentation here:\n",
            "https://pandas.pydata.org/pandas-docs/stable/user_guide/indexing.html#deprecate-loc-reindex-listlike\n",
            "  \n"
          ],
          "name": "stderr"
        }
      ]
    },
    {
      "cell_type": "markdown",
      "metadata": {
        "id": "ie0PrSrx36WO",
        "colab_type": "text"
      },
      "source": [
        "Now we make arrays of the desired inputs and outputs. The inputs are the embeddings, and the outputs are `1` for positive words and `-1` for negative words. We also make sure to keep track of the words they’re labeled with, so we can interpret the results."
      ]
    },
    {
      "cell_type": "code",
      "metadata": {
        "ExecuteTime": {
          "end_time": "2019-03-29T15:05:03.485323Z",
          "start_time": "2019-03-29T15:05:03.466320Z"
        },
        "id": "m621qcuJ36WP",
        "colab_type": "code",
        "colab": {}
      },
      "source": [
        "vectors = pd.concat([pos_vectors, neg_vectors])\n",
        "targets = np.array([1 for entry in pos_vectors.index] + [-1 for entry in neg_vectors.index])\n",
        "labels = list(pos_vectors.index) + list(neg_vectors.index)"
      ],
      "execution_count": 0,
      "outputs": []
    },
    {
      "cell_type": "code",
      "metadata": {
        "ExecuteTime": {
          "end_time": "2019-03-29T15:05:05.256478Z",
          "start_time": "2019-03-29T15:05:05.210348Z"
        },
        "id": "Gr0h65tU36WQ",
        "colab_type": "code",
        "colab": {}
      },
      "source": [
        "from sklearn.model_selection import train_test_split\n",
        "\n",
        "train_vectors, test_vectors, train_targets, test_targets, train_labels, test_labels = \\\n",
        "    train_test_split(vectors, targets, labels, test_size=0.1, random_state=0)"
      ],
      "execution_count": 0,
      "outputs": []
    },
    {
      "cell_type": "markdown",
      "metadata": {
        "id": "WmvRa6EU36WS",
        "colab_type": "text"
      },
      "source": [
        "Now it is time to make your classifier, and train it by running the training vectors through it for 100 iterations. You can use a logistic function as the loss, so that the resulting classifier can output the probability that a word is positive or negative."
      ]
    },
    {
      "cell_type": "code",
      "metadata": {
        "ExecuteTime": {
          "end_time": "2019-03-29T15:16:50.546163Z",
          "start_time": "2019-03-29T15:16:50.542669Z"
        },
        "id": "FURb6EvC36WS",
        "colab_type": "code",
        "colab": {
          "base_uri": "https://localhost:8080/",
          "height": 87
        },
        "outputId": "fa20b04c-70b5-4d56-b51c-ec2d3406e516"
      },
      "source": [
        "# write your classifier here\n",
        "from sklearn.linear_model import LogisticRegression\n",
        "from sklearn.metrics import accuracy_score \n",
        "model = LogisticRegression()\n",
        "X = train_vectors; y = train_targets\n",
        "model.fit(X, y)\n",
        "print(\"accuracy on train: \", accuracy_score(y.flatten(), model.predict(X)))"
      ],
      "execution_count": 14,
      "outputs": [
        {
          "output_type": "stream",
          "text": [
            "/usr/local/lib/python3.6/dist-packages/sklearn/linear_model/logistic.py:432: FutureWarning: Default solver will be changed to 'lbfgs' in 0.22. Specify a solver to silence this warning.\n",
            "  FutureWarning)\n"
          ],
          "name": "stderr"
        },
        {
          "output_type": "stream",
          "text": [
            "accuracy on train:  0.9626215219577606\n"
          ],
          "name": "stdout"
        }
      ]
    },
    {
      "cell_type": "markdown",
      "metadata": {
        "id": "d7nkqCLT36WU",
        "colab_type": "text"
      },
      "source": [
        "Evaluate your classifier on the test vectors. Which is the classifier performace (in terms of accuracy)?"
      ]
    },
    {
      "cell_type": "code",
      "metadata": {
        "ExecuteTime": {
          "end_time": "2019-03-29T15:16:54.627721Z",
          "start_time": "2019-03-29T15:16:54.625191Z"
        },
        "id": "hC0jVNW836WV",
        "colab_type": "code",
        "colab": {
          "base_uri": "https://localhost:8080/",
          "height": 34
        },
        "outputId": "52316d99-1af4-4fd4-ada6-1011904c2ced"
      },
      "source": [
        "# Compute your classifier accuracy\n",
        "# It should predict the correct sentiment for sentiment words outside of its training data 95% of the time.\n",
        "print(\"accuracy on train: \", accuracy_score(test_targets.flatten(), model.predict(test_vectors)))"
      ],
      "execution_count": 15,
      "outputs": [
        {
          "output_type": "stream",
          "text": [
            "accuracy on train:  0.9487179487179487\n"
          ],
          "name": "stdout"
        }
      ]
    },
    {
      "cell_type": "markdown",
      "metadata": {
        "id": "uK1i_QdU36WW",
        "colab_type": "text"
      },
      "source": [
        "Let’s define a function that we can use to see the sentiment that this classifier predicts for particular words, then use it to see some examples of its predictions on the test data."
      ]
    },
    {
      "cell_type": "code",
      "metadata": {
        "ExecuteTime": {
          "end_time": "2019-03-29T15:06:07.705034Z",
          "start_time": "2019-03-29T15:06:07.670604Z"
        },
        "id": "RHjbLz4436WX",
        "colab_type": "code",
        "colab": {
          "base_uri": "https://localhost:8080/",
          "height": 757
        },
        "outputId": "16812b48-84bd-44cb-8c93-f64007e39c61"
      },
      "source": [
        "def vecs_to_sentiment(vecs):\n",
        "    # predict_log_proba gives the log probability for each class\n",
        "    predictions = model.predict_log_proba(vecs)\n",
        "\n",
        "    # To see an overall positive vs. negative classification in one number,\n",
        "    # we take the log probability of positive sentiment minus the log\n",
        "    # probability of negative sentiment.\n",
        "    return predictions[:, 1] - predictions[:, 0]\n",
        "\n",
        "\n",
        "def words_to_sentiment(words):\n",
        "    vecs = embeddings.loc[words].dropna()\n",
        "    log_odds = vecs_to_sentiment(vecs)\n",
        "    return pd.DataFrame({'sentiment': log_odds}, index=vecs.index)\n",
        "\n",
        "\n",
        "# Show 20 examples from the test set\n",
        "words_to_sentiment(test_labels).ix[:20]"
      ],
      "execution_count": 16,
      "outputs": [
        {
          "output_type": "stream",
          "text": [
            "/usr/local/lib/python3.6/dist-packages/ipykernel_launcher.py:18: FutureWarning: \n",
            ".ix is deprecated. Please use\n",
            ".loc for label based indexing or\n",
            ".iloc for positional indexing\n",
            "\n",
            "See the documentation here:\n",
            "http://pandas.pydata.org/pandas-docs/stable/user_guide/indexing.html#ix-indexer-is-deprecated\n"
          ],
          "name": "stderr"
        },
        {
          "output_type": "execute_result",
          "data": {
            "text/html": [
              "<div>\n",
              "<style scoped>\n",
              "    .dataframe tbody tr th:only-of-type {\n",
              "        vertical-align: middle;\n",
              "    }\n",
              "\n",
              "    .dataframe tbody tr th {\n",
              "        vertical-align: top;\n",
              "    }\n",
              "\n",
              "    .dataframe thead th {\n",
              "        text-align: right;\n",
              "    }\n",
              "</style>\n",
              "<table border=\"1\" class=\"dataframe\">\n",
              "  <thead>\n",
              "    <tr style=\"text-align: right;\">\n",
              "      <th></th>\n",
              "      <th>sentiment</th>\n",
              "    </tr>\n",
              "  </thead>\n",
              "  <tbody>\n",
              "    <tr>\n",
              "      <th>fidget</th>\n",
              "      <td>-9.254089</td>\n",
              "    </tr>\n",
              "    <tr>\n",
              "      <th>interrupt</th>\n",
              "      <td>-9.155683</td>\n",
              "    </tr>\n",
              "    <tr>\n",
              "      <th>staunchly</th>\n",
              "      <td>1.054946</td>\n",
              "    </tr>\n",
              "    <tr>\n",
              "      <th>imaginary</th>\n",
              "      <td>-2.899846</td>\n",
              "    </tr>\n",
              "    <tr>\n",
              "      <th>taxing</th>\n",
              "      <td>0.031975</td>\n",
              "    </tr>\n",
              "    <tr>\n",
              "      <th>world-famous</th>\n",
              "      <td>6.557374</td>\n",
              "    </tr>\n",
              "    <tr>\n",
              "      <th>low-cost</th>\n",
              "      <td>8.534703</td>\n",
              "    </tr>\n",
              "    <tr>\n",
              "      <th>disapointment</th>\n",
              "      <td>-8.225734</td>\n",
              "    </tr>\n",
              "    <tr>\n",
              "      <th>totalitarian</th>\n",
              "      <td>-10.376862</td>\n",
              "    </tr>\n",
              "    <tr>\n",
              "      <th>bellicose</th>\n",
              "      <td>-8.173279</td>\n",
              "    </tr>\n",
              "    <tr>\n",
              "      <th>freezes</th>\n",
              "      <td>-7.936524</td>\n",
              "    </tr>\n",
              "    <tr>\n",
              "      <th>sin</th>\n",
              "      <td>-7.787270</td>\n",
              "    </tr>\n",
              "    <tr>\n",
              "      <th>fragile</th>\n",
              "      <td>-4.097536</td>\n",
              "    </tr>\n",
              "    <tr>\n",
              "      <th>fooled</th>\n",
              "      <td>-4.202616</td>\n",
              "    </tr>\n",
              "    <tr>\n",
              "      <th>undecided</th>\n",
              "      <td>-2.991669</td>\n",
              "    </tr>\n",
              "    <tr>\n",
              "      <th>handily</th>\n",
              "      <td>1.962600</td>\n",
              "    </tr>\n",
              "    <tr>\n",
              "      <th>demonizes</th>\n",
              "      <td>-1.981210</td>\n",
              "    </tr>\n",
              "    <tr>\n",
              "      <th>easygoing</th>\n",
              "      <td>7.922052</td>\n",
              "    </tr>\n",
              "    <tr>\n",
              "      <th>unpopular</th>\n",
              "      <td>-7.842185</td>\n",
              "    </tr>\n",
              "    <tr>\n",
              "      <th>commiserate</th>\n",
              "      <td>1.449644</td>\n",
              "    </tr>\n",
              "  </tbody>\n",
              "</table>\n",
              "</div>"
            ],
            "text/plain": [
              "               sentiment\n",
              "fidget         -9.254089\n",
              "interrupt      -9.155683\n",
              "staunchly       1.054946\n",
              "imaginary      -2.899846\n",
              "taxing          0.031975\n",
              "world-famous    6.557374\n",
              "low-cost        8.534703\n",
              "disapointment  -8.225734\n",
              "totalitarian  -10.376862\n",
              "bellicose      -8.173279\n",
              "freezes        -7.936524\n",
              "sin            -7.787270\n",
              "fragile        -4.097536\n",
              "fooled         -4.202616\n",
              "undecided      -2.991669\n",
              "handily         1.962600\n",
              "demonizes      -1.981210\n",
              "easygoing       7.922052\n",
              "unpopular      -7.842185\n",
              "commiserate     1.449644"
            ]
          },
          "metadata": {
            "tags": []
          },
          "execution_count": 16
        }
      ]
    },
    {
      "cell_type": "markdown",
      "metadata": {
        "id": "J4526kr336WY",
        "colab_type": "text"
      },
      "source": [
        "## Sentiment score for text\n",
        "\n",
        "There are many ways to combine sentiments for word vectors into an overall sentiment score. The simplest way is to average them."
      ]
    },
    {
      "cell_type": "code",
      "metadata": {
        "ExecuteTime": {
          "end_time": "2019-03-29T15:07:29.746290Z",
          "start_time": "2019-03-29T15:07:29.740768Z"
        },
        "id": "A3dEGQHR36WZ",
        "colab_type": "code",
        "colab": {}
      },
      "source": [
        "import re\n",
        "TOKEN_RE = re.compile(r\"\\w.*?\\b\")\n",
        "# The regex above finds tokens that start with a word-like character (\\w), and continues\n",
        "# matching characters (.+?) until the next word break (\\b). It's a relatively simple\n",
        "# expression that manages to extract something very much like words from text.\n",
        "\n",
        "\n",
        "def text_to_sentiment(text):\n",
        "    tokens = [token.casefold() for token in TOKEN_RE.findall(text)]\n",
        "    sentiments = words_to_sentiment(tokens)\n",
        "    return sentiments['sentiment'].mean()"
      ],
      "execution_count": 0,
      "outputs": []
    },
    {
      "cell_type": "code",
      "metadata": {
        "ExecuteTime": {
          "end_time": "2019-03-29T15:07:40.366537Z",
          "start_time": "2019-03-29T15:07:40.351478Z"
        },
        "id": "hQTzNCdS36Wa",
        "colab_type": "code",
        "colab": {
          "base_uri": "https://localhost:8080/",
          "height": 34
        },
        "outputId": "1ab9c390-081c-48f1-d993-a15bef8cbd33"
      },
      "source": [
        "text_to_sentiment(\"this example is pretty cool\")"
      ],
      "execution_count": 18,
      "outputs": [
        {
          "output_type": "execute_result",
          "data": {
            "text/plain": [
              "3.3689280007293823"
            ]
          },
          "metadata": {
            "tags": []
          },
          "execution_count": 18
        }
      ]
    },
    {
      "cell_type": "code",
      "metadata": {
        "ExecuteTime": {
          "end_time": "2019-03-29T15:07:48.548136Z",
          "start_time": "2019-03-29T15:07:48.540902Z"
        },
        "id": "qTzmNPsS36Wc",
        "colab_type": "code",
        "colab": {
          "base_uri": "https://localhost:8080/",
          "height": 34
        },
        "outputId": "44862985-6fd6-49a1-ae5c-34820e6877f1"
      },
      "source": [
        "text_to_sentiment(\"meh, this example sucks\")"
      ],
      "execution_count": 19,
      "outputs": [
        {
          "output_type": "execute_result",
          "data": {
            "text/plain": [
              "-1.3026716598907262"
            ]
          },
          "metadata": {
            "tags": []
          },
          "execution_count": 19
        }
      ]
    },
    {
      "cell_type": "markdown",
      "metadata": {
        "id": "yEOgMznp36We",
        "colab_type": "text"
      },
      "source": [
        "Let’s see what it does with a few variations on a neutral sentence:"
      ]
    },
    {
      "cell_type": "code",
      "metadata": {
        "ExecuteTime": {
          "end_time": "2019-03-29T15:08:39.114595Z",
          "start_time": "2019-03-29T15:08:39.099228Z"
        },
        "id": "JJGhHOQV36Wf",
        "colab_type": "code",
        "colab": {
          "base_uri": "https://localhost:8080/",
          "height": 67
        },
        "outputId": "1e5e3327-05fd-4ef7-afeb-2d4de140293b"
      },
      "source": [
        "print(text_to_sentiment(\"Let's go get Italian food\"))\n",
        "print(text_to_sentiment(\"Let's go get Chinese food\"))\n",
        "print(text_to_sentiment(\"Let's go get Mexican food\"))"
      ],
      "execution_count": 20,
      "outputs": [
        {
          "output_type": "stream",
          "text": [
            "1.8057812943830553\n",
            "1.181765315562643\n",
            "0.2713142143969614\n"
          ],
          "name": "stdout"
        }
      ]
    },
    {
      "cell_type": "code",
      "metadata": {
        "ExecuteTime": {
          "end_time": "2019-03-29T15:09:13.624994Z",
          "start_time": "2019-03-29T15:09:13.604583Z"
        },
        "id": "0ireRAwn36Wh",
        "colab_type": "code",
        "colab": {
          "base_uri": "https://localhost:8080/",
          "height": 84
        },
        "outputId": "82a1966f-5c7a-46b4-935f-7c1308412634"
      },
      "source": [
        "print(text_to_sentiment(\"My name is Emily\"))\n",
        "print(text_to_sentiment(\"My name is Heather\"))\n",
        "print(text_to_sentiment(\"My name is Yvette\"))\n",
        "print(text_to_sentiment(\"My name is Shaniqua\"))\n"
      ],
      "execution_count": 21,
      "outputs": [
        {
          "output_type": "stream",
          "text": [
            "1.8812917331404042\n",
            "1.157566217246052\n",
            "0.7944697073868507\n",
            "-0.5672813988132483\n"
          ],
          "name": "stdout"
        }
      ]
    },
    {
      "cell_type": "markdown",
      "metadata": {
        "id": "wRGzWes336Wi",
        "colab_type": "text"
      },
      "source": [
        "The system has associated wildly different sentiments with people’s names. You can look at these examples and many others and see that the sentiment is generally more positive for stereotypically-white names, and more negative for stereotypically-black names."
      ]
    },
    {
      "cell_type": "markdown",
      "metadata": {
        "id": "x_E9QiMm36Wj",
        "colab_type": "text"
      },
      "source": [
        "## Ethical problem\n",
        "\n",
        "We want to learn how to not make something like this again. So let’s put more data through it, and statistically measure how bad its bias is.\n",
        "\n",
        "Here we have four lists of names that tend to reflect different ethnic backgrounds, mostly from a United States perspective. The first two are lists of predominantly “white” and “black” names adapted from Caliskan et al.’s article. I also added typically Hispanic names, as well as Muslim names that come from Arabic or Urdu; these are two more distinct groupings of given names that tend to represent your background."
      ]
    },
    {
      "cell_type": "code",
      "metadata": {
        "ExecuteTime": {
          "end_time": "2019-03-29T15:10:18.816997Z",
          "start_time": "2019-03-29T15:10:18.787085Z"
        },
        "id": "b5_7Pgtl36Wj",
        "colab_type": "code",
        "colab": {}
      },
      "source": [
        "NAMES_BY_ETHNICITY = {\n",
        "    # The first two lists are from the Caliskan et al. appendix describing the\n",
        "    # Word Embedding Association Test.\n",
        "    'White': [\n",
        "        'Adam', 'Chip', 'Harry', 'Josh', 'Roger', 'Alan', 'Frank', 'Ian', 'Justin',\n",
        "        'Ryan', 'Andrew', 'Fred', 'Jack', 'Matthew', 'Stephen', 'Brad', 'Greg', 'Jed',\n",
        "        'Paul', 'Todd', 'Brandon', 'Hank', 'Jonathan', 'Peter', 'Wilbur', 'Amanda',\n",
        "        'Courtney', 'Heather', 'Melanie', 'Sara', 'Amber', 'Crystal', 'Katie',\n",
        "        'Meredith', 'Shannon', 'Betsy', 'Donna', 'Kristin', 'Nancy', 'Stephanie',\n",
        "        'Bobbie-Sue', 'Ellen', 'Lauren', 'Peggy', 'Sue-Ellen', 'Colleen', 'Emily',\n",
        "        'Megan', 'Rachel', 'Wendy'\n",
        "    ],\n",
        "\n",
        "    'Black': [\n",
        "        'Alonzo', 'Jamel', 'Lerone', 'Percell', 'Theo', 'Alphonse', 'Jerome',\n",
        "        'Leroy', 'Rasaan', 'Torrance', 'Darnell', 'Lamar', 'Lionel', 'Rashaun',\n",
        "        'Tyree', 'Deion', 'Lamont', 'Malik', 'Terrence', 'Tyrone', 'Everol',\n",
        "        'Lavon', 'Marcellus', 'Terryl', 'Wardell', 'Aiesha', 'Lashelle', 'Nichelle',\n",
        "        'Shereen', 'Temeka', 'Ebony', 'Latisha', 'Shaniqua', 'Tameisha', 'Teretha',\n",
        "        'Jasmine', 'Latonya', 'Shanise', 'Tanisha', 'Tia', 'Lakisha', 'Latoya',\n",
        "        'Sharise', 'Tashika', 'Yolanda', 'Lashandra', 'Malika', 'Shavonn',\n",
        "        'Tawanda', 'Yvette'\n",
        "    ],\n",
        "    \n",
        "    # This list comes from statistics about common Hispanic-origin names in the US.\n",
        "    'Hispanic': [\n",
        "        'Juan', 'José', 'Miguel', 'Luís', 'Jorge', 'Santiago', 'Matías', 'Sebastián',\n",
        "        'Mateo', 'Nicolás', 'Alejandro', 'Samuel', 'Diego', 'Daniel', 'Tomás',\n",
        "        'Juana', 'Ana', 'Luisa', 'María', 'Elena', 'Sofía', 'Isabella', 'Valentina',\n",
        "        'Camila', 'Valeria', 'Ximena', 'Luciana', 'Mariana', 'Victoria', 'Martina'\n",
        "    ],\n",
        "    \n",
        "    # The following list conflates religion and ethnicity, I'm aware. So do given names.\n",
        "    #\n",
        "    # This list was cobbled together from searching baby-name sites for common Muslim names,\n",
        "    # as spelled in English. I did not ultimately distinguish whether the origin of the name\n",
        "    # is Arabic or Urdu or another language.\n",
        "    #\n",
        "    # I'd be happy to replace it with something more authoritative, given a source.\n",
        "    'Arab/Muslim': [\n",
        "        'Mohammed', 'Omar', 'Ahmed', 'Ali', 'Youssef', 'Abdullah', 'Yasin', 'Hamza',\n",
        "        'Ayaan', 'Syed', 'Rishaan', 'Samar', 'Ahmad', 'Zikri', 'Rayyan', 'Mariam',\n",
        "        'Jana', 'Malak', 'Salma', 'Nour', 'Lian', 'Fatima', 'Ayesha', 'Zahra', 'Sana',\n",
        "        'Zara', 'Alya', 'Shaista', 'Zoya', 'Yasmin'\n",
        "    ]\n",
        "}"
      ],
      "execution_count": 0,
      "outputs": []
    },
    {
      "cell_type": "markdown",
      "metadata": {
        "id": "bW8d-UTG36Wl",
        "colab_type": "text"
      },
      "source": [
        "Now we’ll use Pandas to make a table of these names, their predominant ethnic background, and the sentiment score we get for them:"
      ]
    },
    {
      "cell_type": "code",
      "metadata": {
        "ExecuteTime": {
          "end_time": "2019-03-29T15:10:46.744680Z",
          "start_time": "2019-03-29T15:10:46.676412Z"
        },
        "id": "7LrHlgku36Wl",
        "colab_type": "code",
        "colab": {
          "base_uri": "https://localhost:8080/",
          "height": 742
        },
        "outputId": "135e2efd-1899-4a0c-b3c5-0d2ff0ce3248"
      },
      "source": [
        "def name_sentiment_table():\n",
        "    frames = []\n",
        "    for group, name_list in sorted(NAMES_BY_ETHNICITY.items()):\n",
        "        lower_names = [name.lower() for name in name_list]\n",
        "        sentiments = words_to_sentiment(lower_names)\n",
        "        sentiments['group'] = group\n",
        "        frames.append(sentiments)\n",
        "\n",
        "    # Put together the data we got from each ethnic group into one big table\n",
        "    return pd.concat(frames)\n",
        "\n",
        "name_sentiments = name_sentiment_table()\n",
        "\n",
        "name_sentiments.ix[::25]"
      ],
      "execution_count": 23,
      "outputs": [
        {
          "output_type": "stream",
          "text": [
            "/usr/local/lib/python3.6/dist-packages/ipykernel_launcher.py:12: FutureWarning: \n",
            "Passing list-likes to .loc or [] with any missing label will raise\n",
            "KeyError in the future, you can use .reindex() as an alternative.\n",
            "\n",
            "See the documentation here:\n",
            "https://pandas.pydata.org/pandas-docs/stable/user_guide/indexing.html#deprecate-loc-reindex-listlike\n",
            "  if sys.path[0] == '':\n",
            "/usr/local/lib/python3.6/dist-packages/ipykernel_launcher.py:12: FutureWarning: \n",
            "Passing list-likes to .loc or [] with any missing label will raise\n",
            "KeyError in the future, you can use .reindex() as an alternative.\n",
            "\n",
            "See the documentation here:\n",
            "https://pandas.pydata.org/pandas-docs/stable/user_guide/indexing.html#deprecate-loc-reindex-listlike\n",
            "  if sys.path[0] == '':\n",
            "/usr/local/lib/python3.6/dist-packages/ipykernel_launcher.py:12: FutureWarning: \n",
            "Passing list-likes to .loc or [] with any missing label will raise\n",
            "KeyError in the future, you can use .reindex() as an alternative.\n",
            "\n",
            "See the documentation here:\n",
            "https://pandas.pydata.org/pandas-docs/stable/user_guide/indexing.html#deprecate-loc-reindex-listlike\n",
            "  if sys.path[0] == '':\n",
            "/usr/local/lib/python3.6/dist-packages/ipykernel_launcher.py:14: FutureWarning: \n",
            ".ix is deprecated. Please use\n",
            ".loc for label based indexing or\n",
            ".iloc for positional indexing\n",
            "\n",
            "See the documentation here:\n",
            "http://pandas.pydata.org/pandas-docs/stable/user_guide/indexing.html#ix-indexer-is-deprecated\n",
            "  \n"
          ],
          "name": "stderr"
        },
        {
          "output_type": "execute_result",
          "data": {
            "text/html": [
              "<div>\n",
              "<style scoped>\n",
              "    .dataframe tbody tr th:only-of-type {\n",
              "        vertical-align: middle;\n",
              "    }\n",
              "\n",
              "    .dataframe tbody tr th {\n",
              "        vertical-align: top;\n",
              "    }\n",
              "\n",
              "    .dataframe thead th {\n",
              "        text-align: right;\n",
              "    }\n",
              "</style>\n",
              "<table border=\"1\" class=\"dataframe\">\n",
              "  <thead>\n",
              "    <tr style=\"text-align: right;\">\n",
              "      <th></th>\n",
              "      <th>sentiment</th>\n",
              "      <th>group</th>\n",
              "    </tr>\n",
              "  </thead>\n",
              "  <tbody>\n",
              "    <tr>\n",
              "      <th>mohammed</th>\n",
              "      <td>0.752179</td>\n",
              "      <td>Arab/Muslim</td>\n",
              "    </tr>\n",
              "    <tr>\n",
              "      <th>alya</th>\n",
              "      <td>3.595916</td>\n",
              "      <td>Arab/Muslim</td>\n",
              "    </tr>\n",
              "    <tr>\n",
              "      <th>terryl</th>\n",
              "      <td>-2.407735</td>\n",
              "      <td>Black</td>\n",
              "    </tr>\n",
              "    <tr>\n",
              "      <th>josé</th>\n",
              "      <td>0.503141</td>\n",
              "      <td>Hispanic</td>\n",
              "    </tr>\n",
              "    <tr>\n",
              "      <th>luciana</th>\n",
              "      <td>1.122395</td>\n",
              "      <td>Hispanic</td>\n",
              "    </tr>\n",
              "    <tr>\n",
              "      <th>hank</th>\n",
              "      <td>0.139862</td>\n",
              "      <td>White</td>\n",
              "    </tr>\n",
              "    <tr>\n",
              "      <th>megan</th>\n",
              "      <td>1.998223</td>\n",
              "      <td>White</td>\n",
              "    </tr>\n",
              "  </tbody>\n",
              "</table>\n",
              "</div>"
            ],
            "text/plain": [
              "          sentiment        group\n",
              "mohammed   0.752179  Arab/Muslim\n",
              "alya       3.595916  Arab/Muslim\n",
              "terryl    -2.407735        Black\n",
              "josé       0.503141     Hispanic\n",
              "luciana    1.122395     Hispanic\n",
              "hank       0.139862        White\n",
              "megan      1.998223        White"
            ]
          },
          "metadata": {
            "tags": []
          },
          "execution_count": 23
        }
      ]
    },
    {
      "cell_type": "code",
      "metadata": {
        "ExecuteTime": {
          "end_time": "2019-03-29T15:10:59.406581Z",
          "start_time": "2019-03-29T15:10:59.243215Z"
        },
        "id": "qV-_PiWH36Wp",
        "colab_type": "code",
        "colab": {
          "base_uri": "https://localhost:8080/",
          "height": 300
        },
        "outputId": "acec494f-7d07-4cf9-c06f-ae44a28f8182"
      },
      "source": [
        "import seaborn\n",
        "plot = seaborn.swarmplot(x='group', y='sentiment', data=name_sentiments)\n",
        "plot.set_ylim([-10, 10])"
      ],
      "execution_count": 26,
      "outputs": [
        {
          "output_type": "execute_result",
          "data": {
            "text/plain": [
              "(-10, 10)"
            ]
          },
          "metadata": {
            "tags": []
          },
          "execution_count": 26
        },
        {
          "output_type": "display_data",
          "data": {
            "image/png": "[encoded data removed]",
            "text/plain": [
              "<Figure size 432x288 with 1 Axes>"
            ]
          },
          "metadata": {
            "tags": []
          }
        }
      ]
    },
    {
      "cell_type": "code",
      "metadata": {
        "ExecuteTime": {
          "end_time": "2019-03-29T15:11:09.382514Z",
          "start_time": "2019-03-29T15:11:09.222382Z"
        },
        "id": "AEMEogIQ36Wr",
        "colab_type": "code",
        "colab": {
          "base_uri": "https://localhost:8080/",
          "height": 280
        },
        "outputId": "d70bdb53-2e5d-491d-b4a6-c740fdeab63f"
      },
      "source": [
        "plot = seaborn.barplot(x='group', y='sentiment', data=name_sentiments, capsize=.1)"
      ],
      "execution_count": 27,
      "outputs": [
        {
          "output_type": "display_data",
          "data": {
            "image/png": "[encoded data removed]",
            "text/plain": [
              "<Figure size 432x288 with 1 Axes>"
            ]
          },
          "metadata": {
            "tags": []
          }
        }
      ]
    },
    {
      "cell_type": "code",
      "metadata": {
        "id": "o6QOaT7kCIx_",
        "colab_type": "code",
        "colab": {}
      },
      "source": [
        ""
      ],
      "execution_count": 0,
      "outputs": []
    }
  ]
}